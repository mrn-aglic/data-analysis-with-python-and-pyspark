{
 "cells": [
  {
   "cell_type": "code",
   "execution_count": null,
   "id": "6a1f9ed1-0b83-426f-bc83-c0062bab8c9a",
   "metadata": {
    "tags": []
   },
   "outputs": [],
   "source": [
    "from pyspark.sql import SparkSession\n",
    "\n",
    "spark = SparkSession.builder.appName(\"Ch08 - basic functions RDD\").getOrCreate()\n",
    "\n",
    "collection = [1, \"two\", 3.0, (\"four\", 4), {\"five\", 5}]\n",
    "\n",
    "sc = spark.sparkContext\n",
    "\n",
    "collection_rdd = sc.parallelize(collection)  # promote list to RDD\n",
    "\n",
    "print(collection_rdd)"
   ]
  },
  {
   "cell_type": "code",
   "execution_count": null,
   "id": "a6771755-7224-4be5-b5fa-10c4f73225b0",
   "metadata": {
    "tags": []
   },
   "outputs": [],
   "source": [
    "from py4j.protocol import Py4JJavaError"
   ]
  },
  {
   "cell_type": "code",
   "execution_count": null,
   "id": "44e8f9ba-6790-4c1a-9438-a4892ff09da7",
   "metadata": {
    "tags": []
   },
   "outputs": [],
   "source": [
    "def add_one(value):\n",
    "    return value + 1"
   ]
  },
  {
   "cell_type": "code",
   "execution_count": null,
   "id": "0c346291-fbbb-4f4b-9aa9-1fde0c5564bc",
   "metadata": {
    "tags": []
   },
   "outputs": [],
   "source": [
    "def safer_add_one(value):\n",
    "    try:\n",
    "        return value + 1\n",
    "    except TypeError:\n",
    "        return value"
   ]
  },
  {
   "cell_type": "code",
   "execution_count": null,
   "id": "6c794e6a-ba34-45cf-8aec-81eb7be311ae",
   "metadata": {
    "tags": []
   },
   "outputs": [],
   "source": [
    "collection_rdd_mapped = collection_rdd.map(safer_add_one)"
   ]
  },
  {
   "cell_type": "code",
   "execution_count": null,
   "id": "ff0a909e-d36e-4b23-bdb7-cec151ff4d1c",
   "metadata": {
    "tags": []
   },
   "outputs": [],
   "source": [
    "try:\n",
    "    print(collection_rdd_mapped.collect())\n",
    "except Py4JJavaError:\n",
    "    pass"
   ]
  },
  {
   "cell_type": "code",
   "execution_count": null,
   "id": "d43a6150-0492-4b2c-8f57-2b0eb15aa959",
   "metadata": {
    "tags": []
   },
   "outputs": [],
   "source": [
    "collection_rdd_filtered = collection_rdd_mapped.filter(lambda elem: isinstance(elem, (float, int)))"
   ]
  },
  {
   "cell_type": "code",
   "execution_count": null,
   "id": "ff141d9f-e90b-4bee-816b-d1825392d6e3",
   "metadata": {
    "tags": []
   },
   "outputs": [],
   "source": [
    "print(collection_rdd_filtered.collect())"
   ]
  },
  {
   "cell_type": "code",
   "execution_count": null,
   "id": "123da6c8-0482-4ff7-ae40-dac59e5a989b",
   "metadata": {
    "tags": []
   },
   "outputs": [],
   "source": [
    "from operator import add"
   ]
  },
  {
   "cell_type": "code",
   "execution_count": null,
   "id": "2f635b0c-6926-4dff-a175-ea0c0468c4ed",
   "metadata": {
    "tags": []
   },
   "outputs": [],
   "source": [
    "collection_rdd = sc.parallelize([4, 7, 9, 1, 3])"
   ]
  },
  {
   "cell_type": "code",
   "execution_count": null,
   "id": "37f9183e-74a3-451a-ac67-838a14ff9e94",
   "metadata": {
    "tags": []
   },
   "outputs": [],
   "source": [
    "print(collection_rdd.reduce(add))"
   ]
  },
  {
   "cell_type": "code",
   "execution_count": null,
   "id": "fd71c0ec-fa66-43e0-808e-e714b1a1ae01",
   "metadata": {},
   "outputs": [],
   "source": []
  }
 ],
 "metadata": {
  "kernelspec": {
   "display_name": "Python 3 (ipykernel)",
   "language": "python",
   "name": "python3"
  },
  "language_info": {
   "codemirror_mode": {
    "name": "ipython",
    "version": 3
   },
   "file_extension": ".py",
   "mimetype": "text/x-python",
   "name": "python",
   "nbconvert_exporter": "python",
   "pygments_lexer": "ipython3",
   "version": "3.10.10"
  }
 },
 "nbformat": 4,
 "nbformat_minor": 5
}
