{
 "cells": [
  {
   "cell_type": "code",
   "execution_count": null,
   "id": "70a0c62f-fe0c-4254-bbaf-babdfc4f94a6",
   "metadata": {
    "tags": []
   },
   "outputs": [],
   "source": [
    "from pyspark.sql import SparkSession\n",
    "\n",
    "spark = SparkSession.builder.appName(\"Ch08 - promote list\")\\\n",
    ".master(\"spark://spark-master:7077\")\\\n",
    ".getOrCreate()"
   ]
  },
  {
   "cell_type": "code",
   "execution_count": null,
   "id": "1e1f6732-4fda-4f8e-b8f8-7fb649f38e73",
   "metadata": {
    "tags": []
   },
   "outputs": [],
   "source": [
    "collection = [1, \"two\", 3.0, (\"four\", 4), {\"five\", 5}]"
   ]
  },
  {
   "cell_type": "code",
   "execution_count": null,
   "id": "9f146e79-b493-4bd7-bb14-8d9f66cf0c20",
   "metadata": {
    "tags": []
   },
   "outputs": [],
   "source": [
    "sc = spark.sparkContext"
   ]
  },
  {
   "cell_type": "code",
   "execution_count": null,
   "id": "6b84497a-1a58-485a-b272-0e28b2f9aa40",
   "metadata": {
    "tags": []
   },
   "outputs": [],
   "source": [
    "collection_rdd = sc.parallelize(collection)  # promote list to RDD"
   ]
  },
  {
   "cell_type": "code",
   "execution_count": null,
   "id": "1dd216c5-ad36-4053-b283-0a1b269da6d3",
   "metadata": {
    "tags": []
   },
   "outputs": [],
   "source": [
    "print(collection_rdd)"
   ]
  },
  {
   "cell_type": "code",
   "execution_count": null,
   "id": "a30aa2ad-9886-4066-8a25-9ffe66f0da67",
   "metadata": {
    "tags": []
   },
   "outputs": [],
   "source": [
    "sc.stop()"
   ]
  },
  {
   "cell_type": "code",
   "execution_count": null,
   "id": "1fc11acb-99fa-4596-92ff-eb012a5664bb",
   "metadata": {},
   "outputs": [],
   "source": []
  }
 ],
 "metadata": {
  "kernelspec": {
   "display_name": "Python 3 (ipykernel)",
   "language": "python",
   "name": "python3"
  },
  "language_info": {
   "codemirror_mode": {
    "name": "ipython",
    "version": 3
   },
   "file_extension": ".py",
   "mimetype": "text/x-python",
   "name": "python",
   "nbconvert_exporter": "python",
   "pygments_lexer": "ipython3",
   "version": "3.10.10"
  }
 },
 "nbformat": 4,
 "nbformat_minor": 5
}
