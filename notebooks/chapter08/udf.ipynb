{
 "cells": [
  {
   "cell_type": "code",
   "execution_count": null,
   "metadata": {
    "tags": []
   },
   "outputs": [],
   "source": [
    "import pyspark.sql.functions as F\n",
    "import pyspark.sql.types as T\n",
    "\n",
    "from pyspark.sql import SparkSession\n",
    "\n",
    "spark = SparkSession.builder.appName(\"Ch08 - UDF\").getOrCreate()"
   ]
  },
  {
   "cell_type": "code",
   "execution_count": null,
   "metadata": {
    "tags": []
   },
   "outputs": [],
   "source": [
    "fractions = [[x, y] for x in range(100) for y in range(1, 100)]\n",
    "frac_df = spark.createDataFrame(fractions, [\"numenator\", \"denominator\"])"
   ]
  },
  {
   "cell_type": "code",
   "execution_count": null,
   "metadata": {
    "tags": []
   },
   "outputs": [],
   "source": [
    "frac_df = frac_df.select(\n",
    "    F.array(F.col(\"numenator\"), F.col(\"denominator\")).alias(\"fraction\")\n",
    ")\n",
    "\n",
    "frac_df.show(5, False)"
   ]
  },
  {
   "cell_type": "code",
   "execution_count": null,
   "metadata": {
    "tags": []
   },
   "outputs": [],
   "source": [
    "from fractions import Fraction\n",
    "from typing import Tuple, Optional\n",
    "\n",
    "Frac = Tuple[int, int] # type synonym"
   ]
  },
  {
   "cell_type": "code",
   "execution_count": null,
   "metadata": {
    "tags": []
   },
   "outputs": [],
   "source": [
    "def py_reduce_fraction(frac: Frac) -> Optional[Frac]:\n",
    "    \"\"\"Reduce a fraction represented as a 2-tuple of integers\"\"\"\n",
    "    num, denom = frac\n",
    "\n",
    "    if denom:\n",
    "        answer = Fraction(num, denom)\n",
    "        return answer.numerator, answer.denominator\n",
    "    return None\n",
    "\n",
    "assert py_reduce_fraction((3, 6)) == (1, 2)\n",
    "assert py_reduce_fraction((1, 0)) is None\n",
    "\n",
    "def py_fraction_to_float(frac: Frac) -> Optional[float]:\n",
    "    \"\"\"Transforms a fraction represented as a 2-tuple of integers into a float.\"\"\"\n",
    "    num, denom = frac\n",
    "\n",
    "    if denom:\n",
    "        return num/denom\n",
    "    return None\n",
    "\n",
    "assert py_fraction_to_float((2, 8)) == 0.25\n",
    "assert py_fraction_to_float((1, 0)) is None"
   ]
  },
  {
   "cell_type": "code",
   "execution_count": null,
   "metadata": {
    "tags": []
   },
   "outputs": [],
   "source": [
    "SparkFrac = T.ArrayType(T.LongType())\n",
    "\n",
    "reduce_fraction = F.udf(py_reduce_fraction, SparkFrac)\n",
    "\n",
    "frac_df = frac_df.withColumn(\"reduced_fraction\", reduce_fraction(F.col(\"fraction\")))\n",
    "\n",
    "frac_df.show(5, False)"
   ]
  },
  {
   "cell_type": "code",
   "execution_count": null,
   "metadata": {
    "tags": []
   },
   "outputs": [],
   "source": [
    "@F.udf(T.DoubleType())\n",
    "def fraction_to_float(frac: Frac) -> Optional[float]:\n",
    "    \"\"\"Transforms a fraction represented as a 2-tuple of integers as a float\"\"\"\n",
    "    num, denom = frac\n",
    "    if denom:\n",
    "        return num/denom\n",
    "    return None\n",
    "\n",
    "frac_df = frac_df.withColumn(\"fraction_float\", fraction_to_float(F.col(\"reduced_fraction\")))\n",
    "\n",
    "frac_df.select(\"reduced_fraction\", \"fraction_float\").distinct().show(5, False)"
   ]
  },
  {
   "cell_type": "code",
   "execution_count": null,
   "metadata": {},
   "outputs": [],
   "source": []
  }
 ],
 "metadata": {
  "kernelspec": {
   "display_name": "Python 3 (ipykernel)",
   "language": "python",
   "name": "python3"
  },
  "language_info": {
   "codemirror_mode": {
    "name": "ipython",
    "version": 3
   },
   "file_extension": ".py",
   "mimetype": "text/x-python",
   "name": "python",
   "nbconvert_exporter": "python",
   "pygments_lexer": "ipython3",
   "version": "3.10.10"
  }
 },
 "nbformat": 4,
 "nbformat_minor": 4
}
