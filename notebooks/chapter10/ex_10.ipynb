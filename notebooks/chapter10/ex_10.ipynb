{
 "cells": [
  {
   "cell_type": "code",
   "execution_count": null,
   "metadata": {},
   "outputs": [],
   "source": [
    "from pyspark.sql import SparkSession\n",
    "from pyspark.sql.window import Window\n",
    "import pyspark.sql.functions as F"
   ]
  },
  {
   "cell_type": "code",
   "execution_count": null,
   "metadata": {
    "jupyter": {
     "outputs_hidden": false
    }
   },
   "outputs": [],
   "source": [
    "spark = SparkSession.builder.appName(\"Ch10 - ex10\").getOrCreate()\n",
    "gsod = spark.read.parquet(\"/opt/spark/data/window/gsod.parquet\")"
   ]
  },
  {
   "cell_type": "code",
   "execution_count": null,
   "metadata": {
    "jupyter": {
     "outputs_hidden": false
    }
   },
   "outputs": [],
   "source": [
    "# ex10.1\n",
    "every_day = Window.partitionBy(\"year\", \"mo\", \"da\")\n",
    "\n",
    "(gsod.withColumn(\"max_temp\", F.max(\"temp\").over(every_day))\n",
    " .select(\"stn\", \"year\", \"mo\", \"da\", \"temp\")\n",
    " .where(\"temp == max_temp\")\n",
    " .orderBy(\"year\", \"mo\", \"da\")\n",
    " .show(5)\n",
    " )"
   ]
  },
  {
   "cell_type": "code",
   "execution_count": null,
   "metadata": {},
   "outputs": [],
   "source": [
    "# ex10.2\n",
    "# It will try to split the records of each window into N equal (as much as possible) buckets\n",
    "exo10_2 = spark.createDataFrame(\n",
    "    [[x // 4, 2] for x in range(10)], [\"index\", \"value\"]\n",
    ")\n",
    "exo10_2.show()"
   ]
  },
  {
   "cell_type": "code",
   "execution_count": null,
   "metadata": {},
   "outputs": [],
   "source": [
    "sol10_2 = Window.partitionBy(\"index\").orderBy(\"value\")"
   ]
  },
  {
   "cell_type": "code",
   "execution_count": null,
   "metadata": {},
   "outputs": [],
   "source": [
    "exo10_2.withColumn(\"10_2\", F.ntile(3).over(sol10_2)).show(10)"
   ]
  },
  {
   "cell_type": "code",
   "execution_count": null,
   "metadata": {},
   "outputs": [],
   "source": [
    "spark.stop()"
   ]
  },
  {
   "cell_type": "code",
   "execution_count": null,
   "metadata": {},
   "outputs": [],
   "source": []
  }
 ],
 "metadata": {
  "kernelspec": {
   "display_name": "Python 3 (ipykernel)",
   "language": "python",
   "name": "python3"
  },
  "language_info": {
   "codemirror_mode": {
    "name": "ipython",
    "version": 3
   },
   "file_extension": ".py",
   "mimetype": "text/x-python",
   "name": "python",
   "nbconvert_exporter": "python",
   "pygments_lexer": "ipython3",
   "version": "3.11.4"
  }
 },
 "nbformat": 4,
 "nbformat_minor": 4
}
