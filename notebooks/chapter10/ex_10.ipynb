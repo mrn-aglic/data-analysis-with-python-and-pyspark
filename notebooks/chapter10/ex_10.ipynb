{
 "cells": [
  {
   "cell_type": "code",
   "execution_count": null,
   "metadata": {},
   "outputs": [],
   "source": [
    "from pyspark.sql import SparkSession\n",
    "from pyspark.sql.window import Window\n",
    "import pyspark.sql.functions as F"
   ]
  },
  {
   "cell_type": "code",
   "execution_count": null,
   "metadata": {
    "jupyter": {
     "outputs_hidden": false
    }
   },
   "outputs": [],
   "source": [
    "spark = SparkSession.builder.appName(\"Ch10 - ex10\").getOrCreate()\n",
    "gsod = spark.read.parquet(\"/opt/spark/data/window/gsod.parquet\")"
   ]
  },
  {
   "cell_type": "code",
   "execution_count": null,
   "metadata": {
    "jupyter": {
     "outputs_hidden": false
    }
   },
   "outputs": [],
   "source": [
    "# ex10.1\n",
    "every_day = Window.partitionBy(\"year\", \"mo\", \"da\")\n",
    "\n",
    "(gsod.withColumn(\"max_temp\", F.max(\"temp\").over(every_day))\n",
    " .select(\"stn\", \"year\", \"mo\", \"da\", \"temp\")\n",
    " .where(\"temp == max_temp\")\n",
    " .orderBy(\"year\", \"mo\", \"da\")\n",
    " .show(5)\n",
    " )"
   ]
  },
  {
   "cell_type": "code",
   "execution_count": null,
   "metadata": {},
   "outputs": [],
   "source": [
    "# ex10.2\n",
    "# It will try to split the records of each window into N equal (as much as possible) buckets\n",
    "exo10_2 = spark.createDataFrame(\n",
    "    [[x // 4, 2] for x in range(10)], [\"index\", \"value\"]\n",
    ")\n",
    "exo10_2.show()"
   ]
  },
  {
   "cell_type": "code",
   "execution_count": null,
   "metadata": {},
   "outputs": [],
   "source": [
    "sol10_2 = Window.partitionBy(\"index\").orderBy(\"value\")"
   ]
  },
  {
   "cell_type": "code",
   "execution_count": null,
   "metadata": {},
   "outputs": [],
   "source": [
    "exo10_2.withColumn(\"10_2\", F.ntile(3).over(sol10_2)).show(10)"
   ]
  },
  {
   "cell_type": "code",
   "execution_count": null,
   "metadata": {},
   "outputs": [],
   "source": [
    "# ex10.3\n",
    "exo10_3 = spark.createDataFrame(\n",
    "    [[10] for x in range(1_000_001)], [\"ord\"]\n",
    ")\n",
    "\n",
    "exo10_3.select(\n",
    "    \"ord\",\n",
    "    F.count(\"ord\").over(\n",
    "        Window.partitionBy().orderBy(\"ord\").rowsBetween(-2, 2)\n",
    "    ).alias(\"row\"),\n",
    "    F.count(\"ord\").over(\n",
    "        Window.partitionBy().orderBy(\"ord\").rangeBetween(-2, 2)\n",
    "    ).alias(\"range\")\n",
    ").show(10)"
   ]
  },
  {
   "cell_type": "code",
   "execution_count": null,
   "metadata": {},
   "outputs": [],
   "source": [
    "# ex10.4\n",
    "each_year = Window.partitionBy(\"year\")\n",
    "\n",
    "(\n",
    "    gsod\n",
    "    .withColumn(\"max_temp\", F.max(\"temp\").over(each_year))\n",
    "    .where(\"temp = max_temp\")\n",
    "    .select(\"year\", \"mo\", \"da\", \"stn\", \"temp\")\n",
    "    .withColumn(\"avg_temp\", F.avg(\"temp\").over(each_year))\n",
    "    .orderBy(\"year\", \"mo\", \"da\")\n",
    "    .show()\n",
    ")"
   ]
  },
  {
   "cell_type": "code",
   "execution_count": null,
   "metadata": {
    "jupyter": {
     "outputs_hidden": false
    }
   },
   "outputs": [],
   "source": [
    "# ex10.5\n",
    "temp_per_month_asc = Window.partitionBy(\"mo\").orderBy(\"count_temp\")\n",
    "\n",
    "gsod_light = spark.read.parquet(\"/opt/spark/data/window/gsod_light.parquet\")\n",
    "gsod_light.withColumn(\"rank_tpm\", F.rank().over(temp_per_month_asc)).show()"
   ]
  },
  {
   "cell_type": "code",
   "execution_count": null,
   "metadata": {
    "jupyter": {
     "outputs_hidden": false
    }
   },
   "outputs": [],
   "source": [
    "temp_per_month_rnk = Window.partitionBy(\"mo\").orderBy(\"count_temp\", \"row_tpm\")\n",
    "\n",
    "gsod_light.withColumn(\n",
    "    \"row_tpm\", F.row_number().over(temp_per_month_asc)\n",
    ").withColumn(\n",
    "    \"rank_tpm\", F.rank().over(temp_per_month_rnk)\n",
    ").show()"
   ]
  },
  {
   "cell_type": "code",
   "execution_count": null,
   "metadata": {
    "jupyter": {
     "outputs_hidden": false
    }
   },
   "outputs": [],
   "source": [
    "# ex10.6\n",
    "seven_day_window = Window.partitionBy(\"stn\").orderBy(\"dtu\").rangeBetween(-7 * 24 * 60 * 60, 7 * 24 * 60 * 60)\n",
    "\n",
    "gsod.select(\n",
    "    \"stn\",\n",
    "    \"temp\",\n",
    "    (F.to_date(F.concat_ws(\"-\", \"year\", \"mo\", \"da\"))).alias(\"dt\")\n",
    ").withColumn(\n",
    "    \"dtu\", F.unix_timestamp(\"dt\").alias(\"dtu\")\n",
    ").withColumn(\n",
    "    \"max_temp\", F.max(\"temp\").over(seven_day_window)\n",
    ").where(\n",
    "    \"temp == max_temp\"\n",
    ").show(10)"
   ]
  },
  {
   "cell_type": "code",
   "execution_count": null,
   "metadata": {},
   "outputs": [],
   "source": [
    "# ex10.7\n",
    "gsod_light_p = (\n",
    "    gsod_light.withColumn(\"year\", F.lit(2019))\n",
    ")\n",
    "gsod_light_p.show()\n",
    "\n"
   ]
  },
  {
   "cell_type": "code",
   "execution_count": null,
   "metadata": {},
   "outputs": [],
   "source": [
    "one_month = Window.partitionBy(\"year\").orderBy(\"mo_idx\").rangeBetween(-1, 1)\n",
    "\n",
    "gsod_light_p.withColumn(\n",
    "    \"mo_idx\", F.col(\"year\").cast(\"int\") * 12 + F.col(\"mo\").cast(\"int\")\n",
    ").withColumn(\n",
    "    \"avg_count\", F.avg(\"count_temp\").over(one_month)\n",
    ").show()"
   ]
  },
  {
   "cell_type": "code",
   "execution_count": null,
   "metadata": {},
   "outputs": [],
   "source": [
    "spark.stop()"
   ]
  },
  {
   "cell_type": "code",
   "execution_count": null,
   "metadata": {},
   "outputs": [],
   "source": []
  }
 ],
 "metadata": {
  "kernelspec": {
   "display_name": "Python 3 (ipykernel)",
   "language": "python",
   "name": "python3"
  },
  "language_info": {
   "codemirror_mode": {
    "name": "ipython",
    "version": 3
   },
   "file_extension": ".py",
   "mimetype": "text/x-python",
   "name": "python",
   "nbconvert_exporter": "python",
   "pygments_lexer": "ipython3",
   "version": "3.11.4"
  }
 },
 "nbformat": 4,
 "nbformat_minor": 4
}
