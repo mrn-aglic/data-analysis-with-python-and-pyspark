{
 "cells": [
  {
   "cell_type": "code",
   "execution_count": null,
   "metadata": {
    "is_executing": true
   },
   "outputs": [],
   "source": [
    "from pyspark.sql import SparkSession\n",
    "import pyspark.sql.functions as F\n",
    "import pyspark.sql.types as T"
   ]
  },
  {
   "cell_type": "code",
   "execution_count": null,
   "metadata": {
    "jupyter": {
     "outputs_hidden": false
    }
   },
   "outputs": [],
   "source": [
    "spark = SparkSession.builder.appName(\n",
    "    \"Ch12 - recipes ML model - are you a dessert? ML PIPELINE\"\n",
    ").config(\"spark.driver.memory\", \"8g\").getOrCreate()"
   ]
  },
  {
   "cell_type": "code",
   "execution_count": null,
   "metadata": {
    "jupyter": {
     "outputs_hidden": false
    }
   },
   "outputs": [],
   "source": [
    "food = spark.read.csv(\"/opt/spark/data/recipes/epi_r.csv\", inferSchema=True, header=True)"
   ]
  },
  {
   "cell_type": "code",
   "execution_count": null,
   "metadata": {
    "jupyter": {
     "outputs_hidden": false
    }
   },
   "outputs": [],
   "source": [
    "print(food.count(), len(food.columns))"
   ]
  },
  {
   "cell_type": "code",
   "execution_count": null,
   "metadata": {
    "jupyter": {
     "outputs_hidden": false
    }
   },
   "outputs": [],
   "source": [
    "food.printSchema()"
   ]
  },
  {
   "cell_type": "code",
   "execution_count": null,
   "metadata": {
    "jupyter": {
     "outputs_hidden": false
    }
   },
   "outputs": [],
   "source": [
    "def sanitize_column_name(name):\n",
    "    answer = name\n",
    "\n",
    "    for i, j in ((\" \", \"_\"), (\"-\", \"_\"), (\"/\", \"_\"), (\"&\", \"and\")):\n",
    "        answer = answer.replace(i, j)\n",
    "\n",
    "    return \"\".join([char for char in answer if char.isalpha() or char.isdigit() or char == \"_\"])"
   ]
  },
  {
   "cell_type": "code",
   "execution_count": null,
   "metadata": {
    "jupyter": {
     "outputs_hidden": false
    }
   },
   "outputs": [],
   "source": [
    "food = food.toDF(*[sanitize_column_name(name) for name in food.columns])"
   ]
  },
  {
   "cell_type": "code",
   "execution_count": null,
   "metadata": {},
   "outputs": [],
   "source": [
    "interesting_columns = [\"clove\"]\n",
    "\n",
    "for x in food.columns:\n",
    "    if x in interesting_columns:\n",
    "        food.select(x).summary().show()"
   ]
  },
  {
   "cell_type": "code",
   "execution_count": null,
   "metadata": {},
   "outputs": [],
   "source": [
    "import pandas as pd\n",
    "pd.set_option(\"display.max.rows\", 20)"
   ]
  },
  {
   "cell_type": "code",
   "execution_count": null,
   "metadata": {},
   "outputs": [],
   "source": [
    "is_binary = food.agg(\n",
    "    *[(F.size(F.collect_set(x)) == 2).alias(x) for x in food.columns]\n",
    ").toPandas()\n",
    "\n",
    "is_binary.unstack()"
   ]
  },
  {
   "cell_type": "code",
   "execution_count": null,
   "metadata": {},
   "outputs": [],
   "source": [
    "food.agg(*[F.collect_set(x) for x in (\"cakeweek\", \"wasteless\")]).show(\n",
    "    1, False\n",
    ")"
   ]
  },
  {
   "cell_type": "code",
   "execution_count": null,
   "metadata": {},
   "outputs": [],
   "source": [
    "food.where(\"cakeweek > 1.0 or wasteless > 1.0\").select(\n",
    "    \"title\", \"rating\", \"wasteless\", \"cakeweek\", food.columns[-1]\n",
    ").show()"
   ]
  },
  {
   "cell_type": "code",
   "execution_count": null,
   "metadata": {},
   "outputs": [],
   "source": [
    "food = food.where(\n",
    "    (\n",
    "        F.col(\"cakeweek\").isin([0.0, 1.0]) | F.col(\"cakeweek\").isNull()\n",
    "    ) &\n",
    "    (\n",
    "        F.col(\"wasteless\").isin([0.0, 1.0]) | F.col(\"wasteless\").isNull()\n",
    "    )\n",
    ")\n",
    "\n",
    "print(food.count(), len(food.columns))"
   ]
  },
  {
   "cell_type": "code",
   "execution_count": null,
   "metadata": {},
   "outputs": [],
   "source": [
    "IDENTIFIERS = [\"title\"]\n",
    "CONTINUOUS_COLUMNS = [\n",
    "    \"rating\",\n",
    "    \"calories\",\n",
    "    \"protein\",\n",
    "    \"fat\",\n",
    "    \"sodium\",\n",
    "]\n",
    "\n",
    "TARGET_COLUMN = [\"dessert\"]\n",
    "\n",
    "BINARY_COLUMNS = [x for x in food.columns if x not in [*IDENTIFIERS, *CONTINUOUS_COLUMNS, *TARGET_COLUMN]]"
   ]
  },
  {
   "cell_type": "code",
   "execution_count": null,
   "metadata": {
    "jupyter": {
     "outputs_hidden": false
    }
   },
   "outputs": [],
   "source": [
    "food = food.dropna(how=\"all\", subset=[x for x in food.columns if x not in IDENTIFIERS])\n",
    "\n",
    "food = food.dropna(subset=TARGET_COLUMN)\n",
    "\n",
    "print(food.count(), len(food.columns))"
   ]
  },
  {
   "cell_type": "code",
   "execution_count": null,
   "metadata": {
    "jupyter": {
     "outputs_hidden": false
    }
   },
   "outputs": [],
   "source": [
    "food = food.fillna(0.0, subset=BINARY_COLUMNS)\n",
    "\n",
    "food.where(F.col(BINARY_COLUMNS[0]).isNull()).count() # => 0"
   ]
  },
  {
   "cell_type": "code",
   "execution_count": null,
   "metadata": {
    "jupyter": {
     "outputs_hidden": false
    }
   },
   "outputs": [],
   "source": [
    "from typing import Optional\n",
    "\n",
    "@F.udf(T.BooleanType())\n",
    "def is_a_number(value: Optional[str]) -> bool:\n",
    "    if not value:\n",
    "        return True\n",
    "\n",
    "    try:\n",
    "        _ = float(value)\n",
    "    except ValueError:\n",
    "        return False\n",
    "    return True\n",
    "\n",
    "food.where(~is_a_number(F.col(\"rating\"))).select(\n",
    "    *CONTINUOUS_COLUMNS\n",
    ").show()\n"
   ]
  },
  {
   "cell_type": "code",
   "execution_count": null,
   "metadata": {
    "jupyter": {
     "outputs_hidden": false
    }
   },
   "outputs": [],
   "source": [
    "for column in [\"rating\", \"calories\"]:\n",
    "    food = food.where(is_a_number(F.col(column)))\n",
    "    food = food.withColumn(column, F.col(column).cast(T.DoubleType()))\n",
    "\n",
    "print(food.count(), len(food.columns))"
   ]
  },
  {
   "cell_type": "code",
   "execution_count": null,
   "metadata": {
    "jupyter": {
     "outputs_hidden": false
    }
   },
   "outputs": [],
   "source": [
    "food.select(*CONTINUOUS_COLUMNS).summary(\n",
    "    \"mean\",\n",
    "    \"stddev\",\n",
    "    \"min\",\n",
    "    \"1%\",\n",
    "    \"5%\",\n",
    "    \"50%\",\n",
    "    \"95%\",\n",
    "    \"99%\",\n",
    "    \"max\",\n",
    ").show()"
   ]
  },
  {
   "cell_type": "code",
   "execution_count": null,
   "metadata": {
    "jupyter": {
     "outputs_hidden": false
    }
   },
   "outputs": [],
   "source": [
    "inst_sum_of_binary_columns = [\n",
    "    F.sum(F.col(x)).alias(x) for x in BINARY_COLUMNS\n",
    "]\n",
    "\n",
    "sum_of_binary_columns = food.select(*inst_sum_of_binary_columns).head().asDict()\n",
    "\n",
    "num_rows = food.count()\n",
    "\n",
    "too_rare_features = [\n",
    "    k for k, v in sum_of_binary_columns.items() if v < 10 or v > (num_rows - 10)\n",
    "]\n",
    "\n",
    "print(len(too_rare_features))\n",
    "\n",
    "print(too_rare_features)\n",
    "\n",
    "BINARY_COLUMNS = list(set(BINARY_COLUMNS) - set(too_rare_features))"
   ]
  },
  {
   "cell_type": "code",
   "execution_count": null,
   "metadata": {},
   "outputs": [],
   "source": [
    "food = food.withColumn(\"protein_ratio\", F.col(\"protein\") * 4 / F.col(\"calories\")).withColumn(\n",
    "    \"fat_ratio\", F.col(\"fat\") * 9 / F.col(\"calories\")\n",
    ")\n",
    "\n",
    "food = food.fillna(0.0, subset=[\"protein_ratio\", \"fat_ratio\"])"
   ]
  },
  {
   "cell_type": "code",
   "execution_count": null,
   "metadata": {},
   "outputs": [],
   "source": [
    "import pyspark.ml.feature as MF\n",
    "from pyspark.ml import Pipeline"
   ]
  },
  {
   "cell_type": "code",
   "execution_count": null,
   "metadata": {},
   "outputs": [],
   "source": [
    "OLD_COLS = [\"calories\", \"protein\", \"fat\", \"sodium\"]\n",
    "NEW_COLS = [\"calories_i\", \"protein_i\", \"fat_i\", \"sodium_i\"]\n",
    "\n",
    "CONTINUOUS_NB = [\"rating\", \"calories_i\", \"protein_i\", \"fat_i\", \"sodium_i\"]\n",
    "\n",
    "# taking care of filling null values with the mean value\n",
    "imputer = MF.Imputer(strategy=\"mean\", inputCols=OLD_COLS, outputCols=NEW_COLS)\n",
    "\n",
    "continuous_assembler = MF.VectorAssembler(inputCols=CONTINUOUS_NB, outputCol=\"continuous\")\n",
    "\n",
    "# taking care to scaling the features to values between 0 and 1\n",
    "continuous_scaler = MF.MinMaxScaler(inputCol=\"continuous\", outputCol=\"continuous_scaled\")\n",
    "\n",
    "food_pipeline = Pipeline(stages=[imputer, continuous_assembler, continuous_scaler])"
   ]
  },
  {
   "cell_type": "code",
   "execution_count": null,
   "metadata": {},
   "outputs": [],
   "source": [
    "pre_ml_assembler = MF.VectorAssembler(\n",
    "    inputCols=BINARY_COLUMNS + [\"continuous_scaled\", \"protein_ratio\", \"fat_ratio\"], outputCol=\"features\"\n",
    ")\n",
    "\n",
    "food_pipeline.setStages([imputer, continuous_assembler, continuous_scaler, pre_ml_assembler])\n",
    "\n",
    "food_pipeline_model = food_pipeline.fit(food)\n",
    "food_features = food_pipeline_model.transform(food)\n",
    "\n",
    "food_features.select(\"title\", \"dessert\", \"features\").show(5, truncate=30)"
   ]
  },
  {
   "cell_type": "code",
   "execution_count": null,
   "metadata": {},
   "outputs": [],
   "source": [
    "print(food_features.schema[\"features\"])\n",
    "\n",
    "print(food_features.schema[\"features\"].metadata)"
   ]
  },
  {
   "cell_type": "code",
   "execution_count": null,
   "metadata": {},
   "outputs": [],
   "source": [
    "from pyspark.ml.classification import LogisticRegression\n",
    "\n",
    "lr = LogisticRegression(featuresCol=\"features\", labelCol=\"dessert\", predictionCol=\"prediction\")\n",
    "\n",
    "food_pipeline.setStages([imputer, continuous_assembler, continuous_scaler, pre_ml_assembler, lr])\n",
    "\n",
    "train, test = food.randomSplit([0.7, 0.3], 13) # 13 is the seed\n",
    "train.cache()\n",
    "\n",
    "food_pipeline_model = food_pipeline.fit(train)\n",
    "results = food_pipeline_model.transform(test)"
   ]
  },
  {
   "cell_type": "code",
   "execution_count": null,
   "metadata": {},
   "outputs": [],
   "source": [
    "spark.stop()"
   ]
  },
  {
   "cell_type": "code",
   "execution_count": null,
   "metadata": {},
   "outputs": [],
   "source": []
  }
 ],
 "metadata": {
  "kernelspec": {
   "display_name": "Python 3 (ipykernel)",
   "language": "python",
   "name": "python3"
  },
  "language_info": {
   "codemirror_mode": {
    "name": "ipython",
    "version": 3
   },
   "file_extension": ".py",
   "mimetype": "text/x-python",
   "name": "python",
   "nbconvert_exporter": "python",
   "pygments_lexer": "ipython3",
   "version": "3.11.4"
  }
 },
 "nbformat": 4,
 "nbformat_minor": 4
}
