{
 "cells": [
  {
   "cell_type": "code",
   "execution_count": 1,
   "metadata": {},
   "outputs": [],
   "source": [
    "from pyspark.sql import SparkSession\n",
    "from functools import reduce\n",
    "import pyspark.sql.functions as F\n",
    "import pyspark.sql.types as T\n",
    "import pandas as pd"
   ]
  },
  {
   "cell_type": "code",
   "execution_count": 2,
   "metadata": {
    "collapsed": false,
    "jupyter": {
     "outputs_hidden": false
    }
   },
   "outputs": [
    {
     "name": "stderr",
     "output_type": "stream",
     "text": [
      "23/06/11 09:57:35 WARN SparkSession: Using an existing Spark session; only runtime SQL configurations will take effect.\n"
     ]
    }
   ],
   "source": [
    "spark = SparkSession.builder.appName(\"CH 09 - series to series UDF\").getOrCreate()"
   ]
  },
  {
   "cell_type": "code",
   "execution_count": 3,
   "metadata": {
    "collapsed": false,
    "jupyter": {
     "outputs_hidden": false
    }
   },
   "outputs": [
    {
     "name": "stderr",
     "output_type": "stream",
     "text": [
      "                                                                                \r"
     ]
    }
   ],
   "source": [
    "gsod = (\n",
    "    reduce(\n",
    "        lambda x, y: x.unionByName(y, allowMissingColumns=True),\n",
    "        [\n",
    "            spark.read.parquet(f\"/opt/spark/data/gsod_noaa/gsod{year}.parquet\")\n",
    "            for year in range(2019, 2021)\n",
    "        ],\n",
    "    )\n",
    "    .dropna(subset=[\"year\", \"mo\", \"da\", \"temp\"])\n",
    "    .where(F.col(\"temp\") != 9999.9)\n",
    "    .drop(\"date\")\n",
    ")"
   ]
  },
  {
   "cell_type": "code",
   "execution_count": 4,
   "metadata": {},
   "outputs": [
    {
     "name": "stderr",
     "output_type": "stream",
     "text": [
      "23/06/11 09:57:56 WARN package: Truncated the string representation of a plan since it was too large. This behavior can be adjusted by setting 'spark.sql.debug.maxToStringFields'.\n",
      "                                                                                \r"
     ]
    },
    {
     "name": "stdout",
     "output_type": "stream",
     "text": [
      "+------+-----+----+---+---+----+----------+------+----------+------+---------+-----+---------+-----+-----------+----+----------+-----+-----+----+--------+----+--------+----+---------+-----+---+------------+----------------+----+-------+--------------------+\n",
      "|   stn| wban|year| mo| da|temp|count_temp|  dewp|count_dewp|   slp|count_slp|  stp|count_stp|visib|count_visib|wdsp|count_wdsp|mxpsd| gust| max|flag_max| min|flag_min|prcp|flag_prcp| sndp|fog|rain_drizzle|snow_ice_pellets|hail|thunder|tornado_funnel_cloud|\n",
      "+------+-----+----+---+---+----+----------+------+----------+------+---------+-----+---------+-----+-----------+----+----------+-----+-----+----+--------+----+--------+----+---------+-----+---+------------+----------------+----+-------+--------------------+\n",
      "|041680|99999|2019| 02| 19|16.1|        15|9999.9|         0|1005.8|       15|999.9|        0|999.9|          0| 8.1|        15| 22.9|999.9|23.0|       *|12.0|    null| 0.0|        I|999.9|  0|           0|               0|   0|      0|                   0|\n",
      "|949110|99999|2019| 11| 23|54.9|        14|9999.9|         0|1018.2|       14| 16.5|       14|999.9|          0|10.7|        14| 22.9|999.9|66.9|       *|42.1|       *| 0.0|        G|999.9|  0|           0|               0|   0|      0|                   0|\n",
      "|998252|99999|2019| 04| 18|44.7|        11|9999.9|         0|1024.1|       11|999.9|        0|999.9|          0| 0.0|        11|999.9|999.9|50.5|       *|39.7|       *| 0.0|        I|999.9|  0|           0|               0|   0|      0|                   0|\n",
      "|998166|99999|2019| 03| 20|34.8|        12|9999.9|         0|1026.2|       12|999.9|        0|999.9|          0| 7.7|        12|  9.9|999.9|36.9|       *|33.4|       *| 0.0|        I|999.9|  0|           0|               0|   0|      0|                   0|\n",
      "|998482|99999|2019| 06| 17|81.0|        14|9999.9|         0|1011.2|       14|999.9|        0|999.9|          0| 0.0|        14|999.9|999.9|87.3|       *|73.2|       *| 0.0|        I|999.9|  0|           0|               0|   0|      0|                   0|\n",
      "+------+-----+----+---+---+----+----------+------+----------+------+---------+-----+---------+-----+-----------+----+----------+-----+-----+----+--------+----+--------+----+---------+-----+---+------------+----------------+----+-------+--------------------+\n",
      "only showing top 5 rows\n",
      "\n"
     ]
    }
   ],
   "source": [
    "gsod.show(5)"
   ]
  },
  {
   "cell_type": "code",
   "execution_count": 5,
   "metadata": {
    "collapsed": false,
    "jupyter": {
     "outputs_hidden": false
    }
   },
   "outputs": [],
   "source": [
    "@F.pandas_udf(T.DoubleType())\n",
    "def f_to_c(degrees: pd.Series) -> pd.Series:\n",
    "    return (degrees - 32) * 5 / 9"
   ]
  },
  {
   "cell_type": "code",
   "execution_count": 6,
   "metadata": {
    "collapsed": false,
    "jupyter": {
     "outputs_hidden": false
    }
   },
   "outputs": [
    {
     "name": "stderr",
     "output_type": "stream",
     "text": [
      "[Stage 4:============================================>              (6 + 2) / 8]\r"
     ]
    },
    {
     "name": "stdout",
     "output_type": "stream",
     "text": [
      "+----+-------------------+\n",
      "|temp|             temp_c|\n",
      "+----+-------------------+\n",
      "|29.6|-1.3333333333333326|\n",
      "|53.5| 11.944444444444445|\n",
      "|70.4| 21.333333333333336|\n",
      "|85.9| 29.944444444444443|\n",
      "|37.2| 2.8888888888888906|\n",
      "+----+-------------------+\n",
      "only showing top 5 rows\n",
      "\n"
     ]
    },
    {
     "name": "stderr",
     "output_type": "stream",
     "text": [
      "                                                                                \r"
     ]
    }
   ],
   "source": [
    "gsod = gsod.withColumn(\"temp_c\", f_to_c(F.col(\"temp\")))\n",
    "gsod.select(\"temp\", \"temp_c\").distinct().show(5)"
   ]
  },
  {
   "cell_type": "code",
   "execution_count": 9,
   "metadata": {},
   "outputs": [],
   "source": [
    "spark.stop()"
   ]
  },
  {
   "cell_type": "code",
   "execution_count": null,
   "metadata": {},
   "outputs": [],
   "source": []
  }
 ],
 "metadata": {
  "kernelspec": {
   "display_name": "Python 3 (ipykernel)",
   "language": "python",
   "name": "python3"
  },
  "language_info": {
   "codemirror_mode": {
    "name": "ipython",
    "version": 3
   },
   "file_extension": ".py",
   "mimetype": "text/x-python",
   "name": "python",
   "nbconvert_exporter": "python",
   "pygments_lexer": "ipython3",
   "version": "3.11.4"
  }
 },
 "nbformat": 4,
 "nbformat_minor": 4
}
