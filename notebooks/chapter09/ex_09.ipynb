{
 "cells": [
  {
   "cell_type": "code",
   "execution_count": null,
   "metadata": {},
   "outputs": [],
   "source": [
    "from pyspark.sql import SparkSession\n",
    "from functools import reduce\n",
    "import pyspark.sql.functions as F\n",
    "import pyspark.sql.types as T\n",
    "import pandas as pd\n",
    "\n",
    "spark = SparkSession.builder.appName(\"Ch09 - ex09\").getOrCreate()"
   ]
  },
  {
   "cell_type": "code",
   "execution_count": null,
   "metadata": {
    "jupyter": {
     "outputs_hidden": false
    }
   },
   "outputs": [],
   "source": [
    "# ex 9.1\n",
    "ex9_1 = pd.Series([\"red\", \"blue\", \"blue\", \"yellow\"])\n",
    "\n",
    "def color_to_num(colors: pd.Series) -> pd.Series:\n",
    "    return colors.apply(\n",
    "        lambda x: {\"red\": 1, \"blue\": 2, \"yellow\": 3}.get(x)\n",
    "    )"
   ]
  },
  {
   "cell_type": "code",
   "execution_count": null,
   "metadata": {
    "jupyter": {
     "outputs_hidden": false
    }
   },
   "outputs": [],
   "source": [
    "color_to_num(ex9_1)"
   ]
  },
  {
   "cell_type": "code",
   "execution_count": null,
   "metadata": {},
   "outputs": [],
   "source": [
    "color_to_num_udf = F.pandas_udf(color_to_num, T.IntegerType())\n",
    "ex9_1_df = spark.createDataFrame(ex9_1.to_frame())"
   ]
  },
  {
   "cell_type": "code",
   "execution_count": null,
   "metadata": {},
   "outputs": [],
   "source": [
    "ex9_1_df.show()"
   ]
  },
  {
   "cell_type": "code",
   "execution_count": null,
   "metadata": {},
   "outputs": [],
   "source": [
    "ex9_1_df.select(color_to_num_udf(F.col(\"0\")).alias(\"num\")).show(5)"
   ]
  },
  {
   "cell_type": "code",
   "execution_count": null,
   "metadata": {
    "jupyter": {
     "outputs_hidden": false
    }
   },
   "outputs": [],
   "source": [
    "gsod = (\n",
    "    reduce(\n",
    "        lambda x, y: x.unionByName(y, allowMissingColumns=True),\n",
    "        [\n",
    "            spark.read.parquet(f\"/opt/spark/data/gsod_noaa/gsod{year}.parquet\")\n",
    "            for year in range(2019, 2021)\n",
    "        ],\n",
    "    )\n",
    "    .dropna(subset=[\"year\", \"mo\", \"da\", \"temp\"])\n",
    "    .where(F.col(\"temp\") != 9999.9)\n",
    "    .drop(\"date\")\n",
    ")"
   ]
  },
  {
   "cell_type": "code",
   "execution_count": null,
   "metadata": {
    "jupyter": {
     "outputs_hidden": false
    }
   },
   "outputs": [],
   "source": [
    "# ex 9.2\n",
    "def temp_to_temp(value: pd.Series, from_temp: str, to_temp: str) -> pd.Series:\n",
    "    from_temp = str.upper(from_temp)\n",
    "    to_temp = str.upper(to_temp)\n",
    "\n",
    "    acceptable_values = [\"F\", \"C\", \"R\", \"K\"]\n",
    "    if (\n",
    "        to_temp not in acceptable_values\n",
    "        or from_temp not in acceptable_values\n",
    "    ):\n",
    "        return value.apply(lambda _: None)\n",
    "\n",
    "    from_to = {\n",
    "        (\"C\", \"F\"): lambda: value * (9 / 5) + 32,\n",
    "        (\"F\", \"C\"): lambda: (value - 32) * (5 / 9),\n",
    "        (\"C\", \"K\"): lambda: value + 273.15,\n",
    "        (\"K\", \"C\"): lambda: value - 273.15,\n",
    "        (\"C\", \"R\"): lambda: value * (9 / 5) + 491.67,\n",
    "        (\"R\", \"C\"): lambda: (value - 491.67) * (5 / 9),\n",
    "        (\"F\", \"K\"): lambda: (value - 32) * (5 / 9) + 273.15,\n",
    "        (\"K\", \"F\"): lambda: (value - 273.15) * (9 / 5) + 32,\n",
    "        (\"F\", \"R\"): lambda: value + 459.67,\n",
    "        (\"R\", \"F\"): lambda: value - 459.67,\n",
    "        (\"K\", \"R\"): lambda: value * (9 / 5),\n",
    "        (\"R\", \"K\"): lambda: value * (5 / 9)\n",
    "    }\n",
    "\n",
    "    convert = from_to[(from_temp, to_temp)]\n",
    "    return convert()"
   ]
  },
  {
   "cell_type": "code",
   "execution_count": null,
   "metadata": {
    "jupyter": {
     "outputs_hidden": false
    }
   },
   "outputs": [],
   "source": [
    "gsod.select(\"temp\", temp_to_temp(F.col(\"temp\"), \"F\", \"C\").alias(\"temp_c\")).show(5, False)"
   ]
  },
  {
   "cell_type": "code",
   "execution_count": null,
   "metadata": {
    "jupyter": {
     "outputs_hidden": false
    }
   },
   "outputs": [],
   "source": [
    "# ex 9.3\n",
    "def scale_temperature_c(temp_by_day: pd.DataFrame) -> pd.DataFrame:\n",
    "    \"\"\"Returns a simple normalization of the temperature for a site.\n",
    "    If the temperature is constant for the whole window, defaults to 0.5.\"\"\"\n",
    "    def f_to_c_temp(temp):\n",
    "        return (temp - 32.0) * 5.0 / 9.0\n",
    "\n",
    "    temp = f_to_c_temp(temp_by_day.temp)\n",
    "    answer = temp_by_day[[\"stn\", \"year\", \"mo\", \"da\", \"temp\"]]\n",
    "    if temp.min() == temp.max():\n",
    "        return answer.assign(temp_norm=0.5)\n",
    "    return answer.assign(\n",
    "        temp_norm=(temp - temp.min()) / (temp.max() - temp.min())\n",
    "    )"
   ]
  },
  {
   "cell_type": "code",
   "execution_count": null,
   "metadata": {
    "jupyter": {
     "outputs_hidden": false
    }
   },
   "outputs": [],
   "source": [
    "# ex 9.4\n",
    "gsod_ex = gsod.groupby(\"year\", \"mo\").applyInPandas(scale_temperature_c, schema=T.StructType([\n",
    "    T.StructField(\"stn\", T.StringType()),\n",
    "    T.StructField(\"year\", T.StringType()),\n",
    "    T.StructField(\"mo\", T.StringType()),\n",
    "    T.StructField(\"da\", T.StringType()),\n",
    "    T.StructField(\"temp\", T.DoubleType()),\n",
    "    T.StructField(\"temp_norm\", T.DoubleType())\n",
    "])).show(5, False)"
   ]
  },
  {
   "cell_type": "code",
   "execution_count": null,
   "metadata": {
    "jupyter": {
     "outputs_hidden": false
    }
   },
   "outputs": [],
   "source": [
    "# ex 9.5\n",
    "from sklearn.linear_model import LinearRegression\n",
    "from typing import Sequence\n",
    "\n",
    "@F.pandas_udf(T.ArrayType(T.DoubleType()))\n",
    "def rate_of_change_temp(day: pd.Series, temp: pd.Series) -> Sequence[float]:\n",
    "\n",
    "    fitted = LinearRegression().fit(X=day.astype(\"int\").values.reshape(-1, 1), y=temp)\n",
    "\n",
    "    return fitted.coef_[0], fitted.intercept_\n",
    "    "
   ]
  },
  {
   "cell_type": "code",
   "execution_count": null,
   "metadata": {
    "jupyter": {
     "outputs_hidden": false
    }
   },
   "outputs": [],
   "source": [
    "result = gsod.groupby(\"stn\", \"year\", \"mo\").agg(\n",
    "    rate_of_change_temp(gsod[\"da\"], gsod[\"temp\"]).alias(\n",
    "        \"sol_9_5\"\n",
    "    )\n",
    ")\n",
    "\n",
    "result.show(5, False)"
   ]
  },
  {
   "cell_type": "code",
   "execution_count": null,
   "metadata": {
    "jupyter": {
     "outputs_hidden": false
    }
   },
   "outputs": [],
   "source": [
    "spark.stop()"
   ]
  }
 ],
 "metadata": {
  "kernelspec": {
   "display_name": "Python 3 (ipykernel)",
   "language": "python",
   "name": "python3"
  },
  "language_info": {
   "codemirror_mode": {
    "name": "ipython",
    "version": 3
   },
   "file_extension": ".py",
   "mimetype": "text/x-python",
   "name": "python",
   "nbconvert_exporter": "python",
   "pygments_lexer": "ipython3",
   "version": "3.11.4"
  }
 },
 "nbformat": 4,
 "nbformat_minor": 4
}
